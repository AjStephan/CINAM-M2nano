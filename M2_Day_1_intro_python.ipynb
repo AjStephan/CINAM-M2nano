{
  "nbformat": 4,
  "nbformat_minor": 0,
  "metadata": {
    "colab": {
      "provenance": []
    },
    "kernelspec": {
      "name": "python3",
      "display_name": "Python 3"
    },
    "language_info": {
      "name": "python"
    }
  },
  "cells": [
    {
      "cell_type": "markdown",
      "source": [
        "# 1 Native Variables\n"
      ],
      "metadata": {
        "id": "9bg9VXCOanN3"
      }
    },
    {
      "cell_type": "markdown",
      "source": [
        "# Slide 3 Python Native Variable"
      ],
      "metadata": {
        "id": "yypzGn8CN4n2"
      }
    },
    {
      "cell_type": "code",
      "source": [
        "# this is a  comment\n",
        "\n",
        "\n",
        "print(\"Hello, world!\")              # print text\n",
        "print(10)                           # print a number\n",
        "print(3.14)                         # print a decimal number\n",
        "print(True)                         # print a boolean value\n",
        "print(\"My age is\", 25)              # print multiple values together\n",
        "\n",
        "Name = \"AMU aix marseille university\"\n",
        "print(Name)\n",
        "print (\"Name\")\n",
        "\n",
        "\n",
        "\n",
        "name = \"Alice\"\n",
        "age = 25\n",
        "\n",
        "# with + it must be in str format\n",
        "print(\"My name is \" + name + \" and I am \" + str(age) + \" years old.\")\n",
        "\n",
        "#with , all types are allowed\n",
        "print(\"My name is\", name, \"and I am\", age, \"years old.\")\n",
        "\n",
        "print(\"apple\", \"banana\", \"cherry\", sep=\" - \")\n",
        "\n",
        "# 4️⃣ Using {} and format()\n",
        "print(\"My name is {} and I am {} years old.\".format(name, age))\n",
        "\n",
        "# 5️⃣ Using f-string (best and easiest!)\n",
        "print(f\"My name is {name} and I am {age} years old.\")\n",
        "\n",
        "#Change variable format\n",
        "print(int(3.7))  # 3\n",
        "print(float(7))  # 7.0\n",
        "print(str(123))  # '123'\n",
        "print(abs(-9.5))  # 9.5\n",
        "print(round(3.14159, 2))  # 3.14\n",
        "\n",
        "\n",
        "# String example\n",
        "text = \"Hello, Python!\"\n",
        "\n",
        "# Addressing (accessing individual characters)\n",
        "print(text[0])   # H  → first character\n",
        "print(text[7])   # P  → eighth character\n",
        "print(text[-1])  # !  → last character\n",
        "\n",
        "# Slicing (extracting parts of the string)\n",
        "print(text[0:5])   # Hello  → characters from index 0 to 4\n",
        "print(text[7:13])  # Python → characters from index 7 to 12\n",
        "print(text[:5])    # Hello  → from start to index 4\n",
        "print(text[7:])    # Python! → from index 7 to the end\n",
        "print(text[::2])   # Hlo yhn! → every 2nd character\n",
        "print(text[::-1])  # !nohtyP ,olleH → reversed string\n",
        "\n",
        "\n",
        "x = 42\n",
        "print(type(x))  # <class 'int'>\n",
        "\n",
        "lst = [1, 2, 3, 4]\n",
        "print(len(lst))  # 4"
      ],
      "metadata": {
        "colab": {
          "base_uri": "https://localhost:8080/"
        },
        "id": "slG8kOUMbnmP",
        "outputId": "fb988e27-6df3-4587-eda9-77e67618e509"
      },
      "execution_count": null,
      "outputs": [
        {
          "output_type": "stream",
          "name": "stdout",
          "text": [
            "<class 'int'>\n",
            "4\n",
            "3\n",
            "7.0\n",
            "123\n",
            "9.5\n",
            "3.14\n",
            "H\n",
            "P\n",
            "!\n",
            "Hello\n",
            "Python\n",
            "Hello\n",
            "Python!\n",
            "Hlo yhn\n",
            "!nohtyP ,olleH\n"
          ]
        }
      ]
    },
    {
      "cell_type": "markdown",
      "source": [
        "#2 Data Structure"
      ],
      "metadata": {
        "id": "L_7H9EUEPCjQ"
      }
    },
    {
      "cell_type": "code",
      "source": [
        "# 1️⃣ LIST: ordered, changeable, allows duplicates\n",
        "fruits = [\"apple\", \"banana\", \"cherry\", \"banana\"]\n",
        "print(\"List:\", fruits)\n",
        "fruits[1] = \"orange\"       # you can change items\n",
        "print(\"After change:\", fruits)\n",
        "\n",
        "# 2️⃣ TUPLE: ordered, unchangeable, allows duplicates\n",
        "colors = (\"red\", \"green\", \"blue\", \"green\")\n",
        "print(\"\\nTuple:\", colors)\n",
        "# colors[0] = \"black\"  ❌ will cause an error (cannot change tuple)\n",
        "\n",
        "# 3️⃣ SET: unordered, no duplicates\n",
        "animals = {\"cat\", \"dog\", \"dog\", \"bird\"}\n",
        "print(\"\\nSet:\", animals)   # duplicates removed automatically\n",
        "\n",
        "# 4️⃣ DICTIONARY: key-value pairs\n",
        "person = {\"name\": \"Alice\", \"age\": 25, \"city\": \"Bangkok\"}\n",
        "print(\"\\nDictionary:\", person)"
      ],
      "metadata": {
        "id": "Mu5-FI_SPCRA"
      },
      "execution_count": null,
      "outputs": []
    },
    {
      "cell_type": "code",
      "source": [
        "# 1️⃣ LIST METHODS\n",
        "fruits = [\"apple\", \"banana\", \"cherry\"]\n",
        "fruits.append(\"orange\")        # add item\n",
        "fruits.remove(\"banana\")        # remove item\n",
        "fruits.sort()                  # sort alphabetically\n",
        "print(\"List:\", fruits)\n",
        "\n",
        "# 2️⃣ TUPLE METHODS (very few)\n",
        "colors = (\"red\", \"green\", \"blue\", \"green\")\n",
        "print(\"\\nTuple count:\", colors.count(\"green\"))   # count how many times\n",
        "print(\"Tuple index:\", colors.index(\"blue\"))      # find position\n",
        "\n",
        "# 3️⃣ SET METHODS\n",
        "animals = {\"cat\", \"dog\"}\n",
        "animals.add(\"bird\")            # add item\n",
        "animals.update([\"fish\", \"dog\"])# add multiple (duplicates ignored)\n",
        "animals.remove(\"cat\")          # remove item\n",
        "print(\"\\nSet:\", animals)\n",
        "\n",
        "# 4️⃣ DICTIONARY METHODS\n",
        "person = {\"name\": \"Alice\", \"age\": 25}\n",
        "person[\"city\"] = \"Bangkok\"     # add new key-value\n",
        "print(\"\\nKeys:\", person.keys())   # show all keys\n",
        "print(\"Values:\", person.values()) # show all values\n",
        "print(\"Items:\", person.items())   # show key-value pairs\n",
        "person.pop(\"age\")               # remove key\n",
        "print(\"After pop:\", person)"
      ],
      "metadata": {
        "id": "07ww9O3vjlmm"
      },
      "execution_count": null,
      "outputs": []
    },
    {
      "cell_type": "markdown",
      "source": [
        "#Conditions"
      ],
      "metadata": {
        "id": "BpVgmSPcdWiL"
      }
    },
    {
      "cell_type": "code",
      "source": [
        "age = 18\n",
        "\n",
        "if age >= 18:\n",
        "    print(\"You are an adult.\")\n",
        "else:\n",
        "    print(\"You are a minor.\")\n",
        "\n",
        "    marks = 75\n",
        "\n",
        "=====================\n",
        "\n",
        "if marks >= 90:\n",
        "    print(\"Grade: A\")\n",
        "elif marks >= 75:\n",
        "    print(\"Grade: B\")\n",
        "elif marks >= 60:\n",
        "    print(\"Grade: C\")\n",
        "else:\n",
        "    print(\"Grade: D\")\n",
        "\n",
        "=====================\n",
        "\n",
        "num = -3\n",
        "\n",
        "if num > 0:\n",
        "    print(\"Positive number\")\n",
        "elif num == 0:\n",
        "    print(\"Zero\")\n",
        "else:\n",
        "    print(\"Negative number\")\n",
        "\n",
        "=====================\n",
        "\n",
        "color = \"green\"\n",
        "\n",
        "if color == \"red\":\n",
        "    print(\"Stop!\")\n",
        "elif color == \"yellow\":\n",
        "    print(\"Slow down!\")\n",
        "elif color == \"green\":\n",
        "    print(\"Go!\")\n",
        "else:\n",
        "    print(\"Invalid color.\")\n",
        "\n",
        "\n",
        "=====================\n",
        "\n",
        "age = 20\n",
        "has_id = True\n",
        "\n",
        "if age >= 18:\n",
        "    if has_id:\n",
        "        print(\"You can enter the club.\")\n",
        "    else:\n",
        "        print(\"You need an ID to enter.\")\n",
        "else:\n",
        "    print(\"You are too young to enter.\")\n"
      ],
      "metadata": {
        "colab": {
          "base_uri": "https://localhost:8080/"
        },
        "id": "doflcvGYdX9e",
        "outputId": "96255cc7-18bf-4e49-de1c-3f0b781cb7d6"
      },
      "execution_count": null,
      "outputs": [
        {
          "output_type": "stream",
          "name": "stdout",
          "text": [
            "You are an adult.\n"
          ]
        }
      ]
    },
    {
      "cell_type": "markdown",
      "source": [
        "# For loops\n"
      ],
      "metadata": {
        "id": "i-tsExlrcyuG"
      }
    },
    {
      "cell_type": "code",
      "source": [
        "# 1️⃣ Loop using range()\n",
        "# range(n) generates numbers from 0 up to n-1\n",
        "print(\"Example 1: Using range()\")\n",
        "for i in range(3):\n",
        "    print(i, end=\" \")   # Output: 0 1 2\n",
        "print(\"\\n\")  # newline\n",
        "\n",
        "\n",
        "# 2️⃣ Loop using reversed()\n",
        "# reversed() goes through an iterable in reverse order\n",
        "print(\"Example 2: Using reversed()\")\n",
        "for i in reversed([1, 2, 3]):\n",
        "    print(i, end=\" \")   # Output: 3 2 1\n",
        "print(\"\\n\")\n",
        "\n",
        "\n",
        "# 3️⃣ Loop using enumerate()\n",
        "# enumerate() gives both index and value when looping through a list\n",
        "print(\"Example 3: Using enumerate()\")\n",
        "for idx, val in enumerate(['a', 'b', 'c']):\n",
        "    print(f\"Index {idx} → Value {val}\")\n",
        "print()\n",
        "\n",
        "\n",
        "# 4️⃣ Loop using zip()\n",
        "# zip() combines two (or more) lists element by element\n",
        "print(\"Example 4: Using zip()\")\n",
        "for pair in zip([1, 2, 3], ['x', 'y', 'z']):\n",
        "    print(pair)   # Output: (1, 'x'), (2, 'y'), (3, 'z')\n",
        "print()\n",
        "\n",
        "\n",
        "# 5️⃣ Advanced: Loop through zipped lists with unpacking\n",
        "# You can unpack the pairs directly inside the loop\n",
        "print(\"Example 5: Using zip() with unpacking\")\n",
        "for num, letter in zip([1, 2, 3], ['x', 'y', 'z']):\n",
        "    print(f\"Number: {num} → Letter: {letter}\")\n",
        "print()\n"
      ],
      "metadata": {
        "id": "6IbT-26Ec1HA"
      },
      "execution_count": null,
      "outputs": []
    },
    {
      "cell_type": "markdown",
      "source": [
        "#Python functions"
      ],
      "metadata": {
        "id": "YQ8JlwgEbwG0"
      }
    },
    {
      "cell_type": "code",
      "source": [
        "\n",
        "\n",
        "nums = [10, 20, 30]\n",
        "print(sum(nums))\n",
        "print(min(nums))  # 10\n",
        "print(max(nums))  # 30\n",
        "\n",
        "unsorted = [3, 1, 4, 2]\n",
        "print(sorted(unsorted))\n",
        "\n",
        "print(divmod(17, 5))  # (3,2) quotient and remainder\n",
        "\n",
        "print(pow(2,3))  # 8\n",
        "print(pow(2,3,3))  # 2^3 mod 3 = 2\n",
        "\n",
        "print(chr(65))  # 'A'\n",
        "print(ord('A')) # 65\n",
        "\n",
        "print(bin(10))  # '0b1010'\n",
        "print(oct(10))  # '0o12'\n",
        "print(hex(255)) # '0xff'\n",
        "\n",
        "expr = \"3*4+2\"\n",
        "print(eval(expr))  # 14\n",
        "\n",
        "nums = [1,2,3,4,5]\n",
        "even = list(filter(lambda x: x%2==0, nums))\n",
        "print(even)  # [2,4]\n",
        "squared = list(map(lambda x: x**2, nums))\n",
        "print(squared)  # [1,4,9,16,25]"
      ],
      "metadata": {
        "id": "aMpr7YH5jlkM"
      },
      "execution_count": null,
      "outputs": []
    },
    {
      "cell_type": "code",
      "source": [
        "print(list(\"nano\"))   # ['n','a','n','o']\n",
        "print(tuple([1,2,3])) # (1,2,3)\n",
        "print(set([1,2,2,3])) # {1,2,3}\n",
        "print(dict(a=1, b=2)) # {'a':1, 'b':2}\n",
        "\n",
        "pi = 3.14159\n",
        "print(\"Pi approx: {:.2f}\".format(pi))"
      ],
      "metadata": {
        "id": "qulbv-5Vjlh9"
      },
      "execution_count": null,
      "outputs": []
    },
    {
      "cell_type": "markdown",
      "source": [
        "#Exemple"
      ],
      "metadata": {
        "id": "bdZLzN2K1iIg"
      }
    },
    {
      "cell_type": "code",
      "source": [
        "#\n",
        "# List of polymer materials and their characteristics\n",
        "materials = [\"Polyethylene\", \"Polypropylene\", \"Atactic Polystyrene\", \"Polyvinyl Chloride\"]\n",
        "densities = [0.94, 0.91, 1.05, 1.38]  # g/cm³\n",
        "melting_points = [115, 160, None, 212]  # °C (None means amorphous)\n",
        "applications = [\n",
        "    \"Plastic bags, bottles\",\n",
        "    \"Food containers, ropes\",\n",
        "    \"Packaging, insulation\",\n",
        "    \"Pipes, cables\",\n",
        "]\n",
        "\n",
        "# Loop through the materials and print their characteristics\n",
        "for i in range(len(materials)):\n",
        "    print(f\"Material: {materials[i]}\")\n",
        "    print(f\"- Density: {densities[i]} g/cm³\")\n",
        "    if melting_points[i] is not None:\n",
        "        print(f\"- Melting Point: {melting_points[i]}°C\")\n",
        "    else:\n",
        "        print(\"- Melting Point: Amorphous (no fixed melting point)\")\n",
        "    print(f\"- Applications: {applications[i]}\")\n",
        "    print(\"-\" * 30)  # Separator for readability"
      ],
      "metadata": {
        "id": "FkLJ5dBXBbku"
      },
      "execution_count": null,
      "outputs": []
    },
    {
      "cell_type": "code",
      "execution_count": null,
      "metadata": {
        "id": "HKX4dgkrgJR3"
      },
      "outputs": [],
      "source": [
        "sizes = [2.5, 10.2, 7.1, 3.6, 12.0, 8.9, 1.9, 22, 3.4, 12, 8.3, 6.1, 4.8]\n",
        "# or sizes = (2.5, 10.2, 7.1, 3.6, 12.0, 8.9, 1.9, 22, 3.4, 12, 8.3, 6.1, 4.8) as tupple\n",
        "\n",
        "#define a dictionnary\n",
        "classification = {\"Quantum dots\": 0, \"Nanoparticles\": 0, \"Large clusters\": 0}\n",
        "\n",
        "for d in sizes:\n",
        "    if d < 5:\n",
        "        classification[\"Quantum dots\"] += 1\n",
        "    elif d <= 10:\n",
        "        classification[\"Nanoparticles\"] += 1\n",
        "    else:\n",
        "        classification[\"Large clusters\"] += 1\n",
        "\n",
        "print(\"=== Nanoparticle Size Summary ===\")\n",
        "for k, v in classification.items():\n",
        "    print(f\"{k}: {v}\")\n"
      ]
    },
    {
      "cell_type": "code",
      "source": [
        "surface_energy = {\n",
        "    \"Au\": [1.50, 1.75, 1.60],\n",
        "    \"Ag\": [1.20, 1.35, 1.10],\n",
        "    \"Cu\": [1.80, 2.00, 1.90]\n",
        "}\n",
        "\n",
        "avg_energy = {}\n",
        "for metal, values in surface_energy.items():\n",
        "    avg = sum(values) / len(values)\n",
        "    avg_energy[metal] = avg\n",
        "\n",
        "sorted_results = dict(sorted(avg_energy.items(), key=lambda x: x[1]))\n",
        "\n",
        "print(\"=== Average Surface Energy (J/m²) ===\")\n",
        "for metal, avg in sorted_results.items():\n",
        "    print(f\"{metal}: {avg:.2f}\")\n",
        "\n",
        "# Identify most stable\n",
        "most_stable = min(avg_energy, key=avg_energy.get)\n",
        "print(f\"\\nMost stable surface: {most_stable} ({avg_energy[most_stable]:.2f} J/m²)\")\n"
      ],
      "metadata": {
        "id": "2dM05lATg7TS"
      },
      "execution_count": null,
      "outputs": []
    },
    {
      "cell_type": "code",
      "source": [
        "# Exercise 1: Fibonacci Sequence\n",
        "\n",
        "# Ask for the number of Fibonacci numbers to display\n",
        "n = int(input(\"How many Fibonacci numbers would you like to see? \"))\n",
        "\n",
        "# Initialize the first two numbers of the Fibonacci sequence\n",
        "fib_sequence = [0, 1]\n",
        "\n",
        "# Generate Fibonacci numbers until we reach the desired length\n",
        "for i in range(2, n):\n",
        "    next_fib = fib_sequence[-1] + fib_sequence[-2]\n",
        "    fib_sequence.append(next_fib)\n",
        "\n",
        "# Print the Fibonacci sequence\n",
        "print(\"The first\", n, \"Fibonacci numbers are:\", fib_sequence)\n"
      ],
      "metadata": {
        "id": "lxfSypsMB1bn"
      },
      "execution_count": null,
      "outputs": []
    },
    {
      "cell_type": "code",
      "source": [
        "# Exercise: Print Prime Numbers Up to a Given Number\n",
        "\n",
        "# Ask for a number from the user\n",
        "n = int(input(\"Enter a number to display prime numbers up to: \"))\n",
        "\n",
        "# Loop through all numbers from 2 to n\n",
        "for num in range(2, n + 1):\n",
        "    # Assume that the number is prime\n",
        "    is_prime = True\n",
        "\n",
        "    # Check if the number is divisible by any number between 2 and num - 1\n",
        "    for i in range(2, num):\n",
        "        if num % i == 0:\n",
        "            is_prime = False\n",
        "            break\n",
        "\n",
        "    # If the number is prime, print it\n",
        "    if is_prime:\n",
        "        print(num)\n"
      ],
      "metadata": {
        "id": "9ecs1THcB68n"
      },
      "execution_count": null,
      "outputs": []
    }
  ]
}